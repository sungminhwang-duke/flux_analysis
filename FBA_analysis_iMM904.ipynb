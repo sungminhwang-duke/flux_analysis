{
 "cells": [
  {
   "cell_type": "markdown",
   "id": "9611aa85",
   "metadata": {},
   "source": [
    "# Cobrapy\n",
    "Check whether the model (.xml) is validated for applying to Cobrapy (https://github.com/opencobra/cobrapy)"
   ]
  },
  {
   "cell_type": "code",
   "execution_count": 1,
   "id": "33907ab6",
   "metadata": {},
   "outputs": [
    {
     "name": "stdout",
     "output_type": "stream",
     "text": [
      "(<Model iMM904 at 0x1438e1b90>,\n",
      " {'COBRA_CHECK': [],\n",
      "  'COBRA_ERROR': [],\n",
      "  'COBRA_FATAL': [],\n",
      "  'COBRA_WARNING': [],\n",
      "  'SBML_ERROR': [],\n",
      "  'SBML_FATAL': [],\n",
      "  'SBML_SCHEMA_ERROR': [],\n",
      "  'SBML_WARNING': []})\n"
     ]
    }
   ],
   "source": [
    "import numpy as np\n",
    "import cobra\n",
    "import os\n",
    "from os.path import join\n",
    "\n",
    "from pprint import pprint\n",
    "from cobra.io import validate_sbml_model\n",
    "report = validate_sbml_model(filename='iMM904.xml') # (2009) https://pubmed.ncbi.nlm.nih.gov/19321003/\n",
    "pprint(report)"
   ]
  },
  {
   "cell_type": "code",
   "execution_count": 2,
   "id": "ad0f9416",
   "metadata": {
    "scrolled": true
   },
   "outputs": [
    {
     "data": {
      "text/plain": [
       "'/Users/sungminhwang'"
      ]
     },
     "execution_count": 2,
     "metadata": {},
     "output_type": "execute_result"
    }
   ],
   "source": [
    "os.getcwd()"
   ]
  },
  {
   "cell_type": "markdown",
   "id": "9ce5e3e9",
   "metadata": {},
   "source": [
    "# Load a model (.xml file)"
   ]
  },
  {
   "cell_type": "code",
   "execution_count": 3,
   "id": "ee6233b9",
   "metadata": {},
   "outputs": [
    {
     "data": {
      "text/html": [
       "\n",
       "        <table>\n",
       "            <tr>\n",
       "                <td><strong>Name</strong></td>\n",
       "                <td>iMM904</td>\n",
       "            </tr><tr>\n",
       "                <td><strong>Memory address</strong></td>\n",
       "                <td>10a88da50</td>\n",
       "            </tr><tr>\n",
       "                <td><strong>Number of metabolites</strong></td>\n",
       "                <td>1226</td>\n",
       "            </tr><tr>\n",
       "                <td><strong>Number of reactions</strong></td>\n",
       "                <td>1577</td>\n",
       "            </tr><tr>\n",
       "                <td><strong>Number of genes</strong></td>\n",
       "                <td>905</td>\n",
       "            </tr><tr>\n",
       "                <td><strong>Number of groups</strong></td>\n",
       "                <td>0</td>\n",
       "            </tr><tr>\n",
       "                <td><strong>Objective expression</strong></td>\n",
       "                <td>1.0*BIOMASS_SC5_notrace - 1.0*BIOMASS_SC5_notrace_reverse_93090</td>\n",
       "            </tr><tr>\n",
       "                <td><strong>Compartments</strong></td>\n",
       "                <td>cytosol, extracellular space, mitochondria, peroxisome/glyoxysome, endoplasmic reticulum, vacuole, golgi apparatus, nucleus</td>\n",
       "            </tr>\n",
       "          </table>"
      ],
      "text/plain": [
       "<Model iMM904 at 0x10a88da50>"
      ]
     },
     "execution_count": 3,
     "metadata": {},
     "output_type": "execute_result"
    }
   ],
   "source": [
    "from cobra.io import read_sbml_model\n",
    "model= read_sbml_model('iMM904.xml')\n",
    "model\n",
    "\n",
    "# These reations are not found from Bigg: \n",
    "# ALCD2x_copy1, ALCD2x_copy2 ,CERH124_copy1, CERH126_copy1, CERH124_copy2, CERH126_copy2, GCC2cm_copy1, GCC2cm_copy2"
   ]
  },
  {
   "cell_type": "code",
   "execution_count": 4,
   "id": "d1cb5bc2",
   "metadata": {},
   "outputs": [
    {
     "ename": "ValueError",
     "evalue": "DataFrame constructor not properly called!",
     "output_type": "error",
     "traceback": [
      "\u001b[0;31m---------------------------------------------------------------------------\u001b[0m",
      "\u001b[0;31mValueError\u001b[0m                                Traceback (most recent call last)",
      "\u001b[0;32m<ipython-input-4-b76e244b26e6>\u001b[0m in \u001b[0;36m<module>\u001b[0;34m\u001b[0m\n\u001b[1;32m     13\u001b[0m \u001b[0;34m\u001b[0m\u001b[0m\n\u001b[1;32m     14\u001b[0m \u001b[0mdf\u001b[0m \u001b[0;34m=\u001b[0m \u001b[0mmodel\u001b[0m\u001b[0;34m.\u001b[0m\u001b[0mreactions\u001b[0m\u001b[0;34m.\u001b[0m\u001b[0mget_by_id\u001b[0m\u001b[0;34m(\u001b[0m\u001b[0;34m'13GS'\u001b[0m\u001b[0;34m)\u001b[0m\u001b[0;34m\u001b[0m\u001b[0;34m\u001b[0m\u001b[0m\n\u001b[0;32m---> 15\u001b[0;31m \u001b[0mdf_11\u001b[0m \u001b[0;34m=\u001b[0m \u001b[0mpd\u001b[0m\u001b[0;34m.\u001b[0m\u001b[0mDataFrame\u001b[0m\u001b[0;34m(\u001b[0m\u001b[0mdf\u001b[0m\u001b[0;34m,\u001b[0m \u001b[0mcolumns\u001b[0m\u001b[0;34m=\u001b[0m \u001b[0;34m[\u001b[0m\u001b[0;34m'Reactions'\u001b[0m\u001b[0;34m]\u001b[0m\u001b[0;34m)\u001b[0m\u001b[0;34m\u001b[0m\u001b[0;34m\u001b[0m\u001b[0m\n\u001b[0m\u001b[1;32m     16\u001b[0m \u001b[0;31m#df_11.to_csv('test.csv', index = False)\u001b[0m\u001b[0;34m\u001b[0m\u001b[0;34m\u001b[0m\u001b[0;34m\u001b[0m\u001b[0m\n",
      "\u001b[0;32m/anaconda3/envs/KIST/lib/python3.7/site-packages/pandas/core/frame.py\u001b[0m in \u001b[0;36m__init__\u001b[0;34m(self, data, index, columns, dtype, copy)\u001b[0m\n\u001b[1;32m    728\u001b[0m         \u001b[0;32melse\u001b[0m\u001b[0;34m:\u001b[0m\u001b[0;34m\u001b[0m\u001b[0;34m\u001b[0m\u001b[0m\n\u001b[1;32m    729\u001b[0m             \u001b[0;32mif\u001b[0m \u001b[0mindex\u001b[0m \u001b[0;32mis\u001b[0m \u001b[0;32mNone\u001b[0m \u001b[0;32mor\u001b[0m \u001b[0mcolumns\u001b[0m \u001b[0;32mis\u001b[0m \u001b[0;32mNone\u001b[0m\u001b[0;34m:\u001b[0m\u001b[0;34m\u001b[0m\u001b[0;34m\u001b[0m\u001b[0m\n\u001b[0;32m--> 730\u001b[0;31m                 \u001b[0;32mraise\u001b[0m \u001b[0mValueError\u001b[0m\u001b[0;34m(\u001b[0m\u001b[0;34m\"DataFrame constructor not properly called!\"\u001b[0m\u001b[0;34m)\u001b[0m\u001b[0;34m\u001b[0m\u001b[0;34m\u001b[0m\u001b[0m\n\u001b[0m\u001b[1;32m    731\u001b[0m \u001b[0;34m\u001b[0m\u001b[0m\n\u001b[1;32m    732\u001b[0m             \u001b[0;31m# Argument 1 to \"ensure_index\" has incompatible type \"Collection[Any]\";\u001b[0m\u001b[0;34m\u001b[0m\u001b[0;34m\u001b[0m\u001b[0;34m\u001b[0m\u001b[0m\n",
      "\u001b[0;31mValueError\u001b[0m: DataFrame constructor not properly called!"
     ]
    }
   ],
   "source": [
    "######################## Delete !!\n",
    "\n",
    "\n",
    "from cobra.io import read_sbml_model\n",
    "from cobra.flux_analysis import single_reaction_deletion\n",
    "import pandas as pd\n",
    "\n",
    "\n",
    "#model.genes.get_by_id('YHR104W')\n",
    "model.reactions.get_by_id('13GS')\n",
    "#model.reactions\n",
    "\n",
    "\n",
    "df = model.reactions.get_by_id('13GS')\n",
    "df_11 = pd.DataFrame(df, columns= ['Reactions'])\n",
    "#df_11.to_csv('test.csv', index = False)"
   ]
  },
  {
   "cell_type": "markdown",
   "id": "04d80f4e",
   "metadata": {},
   "source": [
    "# Check what reactions/metabolites/genes are present in the model"
   ]
  },
  {
   "cell_type": "code",
   "execution_count": 5,
   "id": "0e351dd3",
   "metadata": {},
   "outputs": [],
   "source": [
    "from cameo import fba\n",
    "import pandas as pd\n",
    "\n",
    "# reactions from iMM904\n",
    "model_rxn = model.reactions\n",
    "model_rxn_df = pd.DataFrame(model_rxn, columns= ['Reactions'])\n",
    "#model_rxn_df.to_csv('iMM904_rxn.csv', index = False)"
   ]
  },
  {
   "cell_type": "code",
   "execution_count": 6,
   "id": "65e6f933",
   "metadata": {},
   "outputs": [],
   "source": [
    "# metabolites from iMM904\n",
    "model_met = model.metabolites\n",
    "model_met_df = pd.DataFrame(model_met, columns= ['Metabolites'])\n",
    "#model_met_df.to_csv('iMM904_met.csv', index = False)"
   ]
  },
  {
   "cell_type": "code",
   "execution_count": 7,
   "id": "1f3a4fd4",
   "metadata": {},
   "outputs": [],
   "source": [
    "# genes from iMM904\n",
    "model_gene = model.genes\n",
    "model_gene_df = pd.DataFrame(model_gene, columns=['Genes'])\n",
    "#model_gene_df.to_csv('iMM904_genes.csv', index = False)                                                "
   ]
  },
  {
   "cell_type": "code",
   "execution_count": 8,
   "id": "8a2408a8",
   "metadata": {},
   "outputs": [
    {
     "data": {
      "text/plain": [
       "{'EX_fe2_e': 999999.0,\n",
       " 'EX_glc__D_e': 10.0,\n",
       " 'EX_h2o_e': 999999.0,\n",
       " 'EX_h_e': 999999.0,\n",
       " 'EX_k_e': 999999.0,\n",
       " 'EX_na1_e': 999999.0,\n",
       " 'EX_so4_e': 999999.0,\n",
       " 'EX_nh4_e': 999999.0,\n",
       " 'EX_o2_e': 2.0,\n",
       " 'EX_pi_e': 999999.0}"
      ]
     },
     "execution_count": 8,
     "metadata": {},
     "output_type": "execute_result"
    }
   ],
   "source": [
    "model.medium"
   ]
  },
  {
   "cell_type": "markdown",
   "id": "00eaa492",
   "metadata": {},
   "source": [
    "# BY4741: MATa his3Δ1 leu2Δ0 met15Δ0 ura3Δ0 <br>\n",
    "\n",
    "BY4741: MATa his3Δ1 leu2Δ0 met15Δ0 ura3Δ0 <br>\n",
    "\n",
    "Modify medium for the simulation based on Table A1. https://doi.org/10.1371/journal.pcbi.1005728\n",
    "1) Glucose only <br>\n",
    "2) Xylose only <br>\n",
    "3) Acetate only <br>\n",
    "4) Glu + Acet <br>\n",
    "5) Xyl + Acet <br>"
   ]
  },
  {
   "cell_type": "markdown",
   "id": "c6e25dbf",
   "metadata": {},
   "source": [
    "# Construction of BY4741 from iMM904"
   ]
  },
  {
   "cell_type": "code",
   "execution_count": 1,
   "id": "3e1fcd89",
   "metadata": {},
   "outputs": [
    {
     "name": "stdout",
     "output_type": "stream",
     "text": [
      "Scaling...\n",
      " A: min|aij| =  1.000e+00  max|aij| =  1.000e+00  ratio =  1.000e+00\n",
      "Problem data seem to be well scaled\n"
     ]
    }
   ],
   "source": [
    "from cobra.io import read_sbml_model\n",
    "model_iMM904_BY4741 = read_sbml_model('iMM904.xml')\n",
    "model_iMM904_BY4741.solver\n",
    "\n",
    "model_iMM904_BY4741.genes.YCL018W.knock_out() #LEU2, BY4741\n",
    "model_iMM904_BY4741.genes.YEL021W.knock_out() #URA3, BY4741\n",
    "model_iMM904_BY4741.genes.YLR303W.knock_out() #MET17, BY4741\n",
    "#model_iMM904_BY4741.genes.YOR202W.knock_out() #HIS3: if the gene is deleted, cells cannot grow.\n",
    "model_iMM904_BY4741.reactions.XYLR.knock_out() # xylose reductase (YHR104W) pathway was deleted!! h_c + nadph_c + xyl__D_c --> nadp_c + xylt_c\n",
    "\n",
    "# test below\n",
    "#model_iMM904_BY4741.reactions.ALCD2x_copy1.knock_out()  # etoh_c + nad_c <=> acald_c + h_c + nadh_c\n",
    "#model_iMM904_BY4741.reactions.ALCD2x_copy2.knock_out()"
   ]
  },
  {
   "cell_type": "code",
   "execution_count": 2,
   "id": "7f01d76c",
   "metadata": {},
   "outputs": [
    {
     "data": {
      "text/html": [
       "<strong>objective value: 0.0</strong>"
      ],
      "text/plain": [
       "<cameo.flux_analysis.simulation.FluxDistributionResult at 0x11d0d8880>"
      ]
     },
     "execution_count": 2,
     "metadata": {},
     "output_type": "execute_result"
    }
   ],
   "source": [
    "# modify medium for the simulation based on Table A1. https://doi.org/10.1371/journal.pcbi.1005728\n",
    "# unit (mmol/gDW/h): 1 mol of glucose every 24h to 1 gram of bacteria you might set the upper exchange flux for glucose to \"1 mol / [1 gDW * 24 h]\" (https://cobrapy.readthedocs.io/en/latest/media.html)\n",
    "\n",
    "medium_iMM904_BY4741 = model_iMM904_BY4741.medium\n",
    "\n",
    "medium_iMM904_BY4741[\"EX_ura_e\"]= 1000    ### uracil[e] =>\n",
    "medium_iMM904_BY4741[\"EX_ade_e\"]= 0   # adenine[e] => \n",
    "medium_iMM904_BY4741[\"EX_cit_e\"]= 0   # citrate[e] => \n",
    "medium_iMM904_BY4741[\"EX_gly_e\"]= 0   # L-glycine[e] => \n",
    "medium_iMM904_BY4741[\"EX_ala__L_e\"]= 0   # L-alanine[e] => \n",
    "medium_iMM904_BY4741[\"EX_arg__L_e\"]= 0   # L-arginine[e] => \n",
    "medium_iMM904_BY4741[\"EX_asn__L_e\"]= 0   # L-asparagine[e] => \n",
    "medium_iMM904_BY4741[\"EX_asp__L_e\"]= 0   # L-aspartate[e] => \n",
    "medium_iMM904_BY4741[\"EX_cys__L_e\"]= 0   # L-cysteine[e] => \n",
    "medium_iMM904_BY4741[\"EX_glu__L_e\"]= 0   # L-glutamate[e] => \n",
    "medium_iMM904_BY4741[\"EX_gln__L_e\"]= 0   # L-glutamine[e] => \n",
    "medium_iMM904_BY4741[\"EX_ile__L_e\"]= 0   # L-isoleucine[e] => \n",
    "medium_iMM904_BY4741[\"EX_leu__L_e\"]= 1000   ### L-leucine[e] => \n",
    "medium_iMM904_BY4741[\"EX_lys__L_e\"]= 0   # L-lysine[e] => \n",
    "medium_iMM904_BY4741[\"EX_met__L_e\"]= 0   # L-methionine[e] => \n",
    "medium_iMM904_BY4741[\"EX_phe__L_e\"]= 0   # L-phenylalanine[e] => \n",
    "medium_iMM904_BY4741[\"EX_pro__L_e\"]= 0   # L-proline[e] => \n",
    "medium_iMM904_BY4741[\"EX_ser__L_e\"]= 0   # L-serine[e] => \n",
    "medium_iMM904_BY4741[\"EX_thr__L_e\"]= 0   # L-threonine[e] => \n",
    "medium_iMM904_BY4741[\"EX_trp__L_e\"]= 0   # L-tryptophan[e] => \n",
    "medium_iMM904_BY4741[\"EX_tyr__L_e\"]= 0   # L-tyrosine[e] => \n",
    "medium_iMM904_BY4741[\"EX_val__L_e\"]= 0   # L-valine[e] => \n",
    "medium_iMM904_BY4741[\"EX_ribflv_e\"]= 0   # riboflavin[e] => \n",
    "medium_iMM904_BY4741[\"EX_pnto__R_e\"]= 0.78   # (R)-pantothenate[e] => \n",
    "medium_iMM904_BY4741[\"EX_4abz_e\"]= 0.78   # 4-aminobenzoate[e] => \n",
    "medium_iMM904_BY4741[\"EX_btn_e\"]= 0.78   # biotin[e] => \n",
    "medium_iMM904_BY4741[\"EX_inost_e\"]= 0.78   # myo-inositol[e] => \n",
    "medium_iMM904_BY4741[\"EX_nac_e\"]= 0.78   # nicotinate[e] => \n",
    "medium_iMM904_BY4741[\"EX_thmpp_e\"]= 0.78   # thiamine[e] => \n",
    "medium_iMM904_BY4741[\"EX_nh4_e\"]= 1000   # ammonium[e] <=> \n",
    "medium_iMM904_BY4741[\"EX_fe2_e\"]= 1000   # iron(2+)[e] <=> \n",
    "medium_iMM904_BY4741[\"EX_pi_e\"]= 1000   # phosphate[e] <=> \n",
    "medium_iMM904_BY4741[\"EX_k_e\"]= 1000   # potassium[e] <=> \n",
    "medium_iMM904_BY4741[\"EX_na1_e\"]= 1000   # sodium[e] <=> \n",
    "medium_iMM904_BY4741[\"EX_so4_e\"]= 1000   # sulphate[e] <=> \n",
    "medium_iMM904_BY4741[\"EX_h2o_e\"]= 1000  # H2O\n",
    "medium_iMM904_BY4741[\"EX_h_e\"]= 1000  #H+\n",
    "#not present: medium_iMM904_BY4741[\"r_2028\"]= 0.78   # pyridoxine[e] => \n",
    "#not present: medium_iMM904_BY4741[\"r_1792\"]= 0   # folate[e] => \n",
    "#not present: medium_iMM904_BY4741[\"r_4593\"]= 1000   # chloride[e] <=> \n",
    "#not present: medium_iMM904_BY4741[\"r_4597\"]= 1000   # Mg(2+)[e] <=> \n",
    "#not present: medium_iMM904_BY4741[\"r_4600\"]= 1000   # Ca(2+)[e] <=> \n",
    "medium_iMM904_BY4741[\"EX_o2_e\"]= 1000   # oxygen[e] <=>      # if anaerobic, set 0\n",
    "\n",
    "#1) Glucose only <br>\n",
    "#2) Xylose only <br>\n",
    "#3) Acetate only <br>\n",
    "#4) Glu + Acet <br>\n",
    "#5) Xyl + Acet <br>\n",
    "medium_iMM904_BY4741[\"EX_glc__D_e\"]= 0   # D-glucose[e] <=> \n",
    "medium_iMM904_BY4741[\"EX_xyl__D_e\"]= 20    # D-xylose[e] => \n",
    "medium_iMM904_BY4741[\"EX_ac_e\"]=     0    # acetate[e] => \n",
    "\n",
    "model_iMM904_BY4741.medium = medium_iMM904_BY4741\n",
    "model_iMM904_BY4741.medium\n",
    "\n",
    "\n",
    "from cameo import fba\n",
    "import pandas as pd\n",
    "\n",
    "fba_result_iMM904_BY4741 = fba(model_iMM904_BY4741)\n",
    "fba_result_iMM904_BY4741\n",
    "#fba_result_iMM904_BY4741.data_frame\n",
    "#fba_result_iMM904_BY4741.data_frame.to_csv('1_BY4741_5_xyl_acet.csv')"
   ]
  },
  {
   "cell_type": "code",
   "execution_count": 11,
   "id": "bb4e2754",
   "metadata": {},
   "outputs": [
    {
     "data": {
      "text/plain": [
       "999999.0"
      ]
     },
     "execution_count": 11,
     "metadata": {},
     "output_type": "execute_result"
    }
   ],
   "source": [
    "# change objective\n",
    "\n",
    "#fba_result_iMM904_BY4741\n",
    "model_iMM904_BY4741.objective = \"ALCD2ir\" # acald_c + h_c + nadh_c --> etoh_c + nad_c\n",
    "model_iMM904_BY4741.optimize().objective_value"
   ]
  },
  {
   "cell_type": "markdown",
   "id": "e9fe97ad",
   "metadata": {},
   "source": [
    "# Visualization"
   ]
  },
  {
   "cell_type": "code",
   "execution_count": 12,
   "id": "2651ee70",
   "metadata": {},
   "outputs": [
    {
     "name": "stdout",
     "output_type": "stream",
     "text": [
      "Downloading Map from https://escher.github.io/1-0-0/6/maps/Saccharomyces%20cerevisiae/iMM904.Central%20carbon%20metabolism.json\n"
     ]
    },
    {
     "data": {
      "application/vnd.jupyter.widget-view+json": {
       "model_id": "96ebfd293de64c4d879656edccf67e7f",
       "version_major": 2,
       "version_minor": 0
      },
      "text/plain": [
       "Builder(reaction_data={'CITtcp': 0.0, '13BGH': 0.0, '13BGHe': 0.0, '13GS': 4.267626304010187, '16GS': 0.0, '23…"
      ]
     },
     "metadata": {},
     "output_type": "display_data"
    }
   ],
   "source": [
    "import ipywidgets as widgets\n",
    "from IPython.display import display\n",
    "import cobra\n",
    "import escher\n",
    "\n",
    "solution = model_iMM904_BY4741.optimize()\n",
    "escher.Builder('iMM904.Central carbon metabolism', reaction_data = solution.fluxes)"
   ]
  },
  {
   "cell_type": "code",
   "execution_count": 13,
   "id": "a936dcdb",
   "metadata": {},
   "outputs": [
    {
     "data": {
      "text/html": [
       "\n",
       "        <table>\n",
       "            <tr>\n",
       "                <td><strong>Reaction identifier</strong></td><td>G6PDH2r</td>\n",
       "            </tr><tr>\n",
       "                <td><strong>Name</strong></td><td>Glucose 6-phosphate dehydrogenase</td>\n",
       "            </tr><tr>\n",
       "                <td><strong>Memory address</strong></td>\n",
       "                <td>0x14ada0c10</td>\n",
       "            </tr><tr>\n",
       "                <td><strong>Stoichiometry</strong></td>\n",
       "                <td>\n",
       "                    <p style='text-align:right'>g6p_c + nadp_c --> 6pgl_c + h_c + nadph_c</p>\n",
       "                    <p style='text-align:right'>D-Glucose 6-phosphate + Nicotinamide adenine dinucleotide phosphate --> 6-phospho-D-glucono-1,5-lactone + H+ + Nicotinamide adenine dinucleotide phosphate - reduced</p>\n",
       "                </td>\n",
       "            </tr><tr>\n",
       "                <td><strong>GPR</strong></td><td>YNL241C</td>\n",
       "            </tr><tr>\n",
       "                <td><strong>Lower bound</strong></td><td>0.0</td>\n",
       "            </tr><tr>\n",
       "                <td><strong>Upper bound</strong></td><td>999999.0</td>\n",
       "            </tr>\n",
       "        </table>\n",
       "        "
      ],
      "text/plain": [
       "<Reaction G6PDH2r at 0x14ada0c10>"
      ]
     },
     "execution_count": 13,
     "metadata": {},
     "output_type": "execute_result"
    }
   ],
   "source": [
    "#model_iMM904_BY4741.reactions.get_by_id('ALCD2ir').flux\n",
    "#model_iMM904_BY4741.reactions.get_by_id('PPA').flux\n",
    "model_iMM904_BY4741.reactions.get_by_id('G6PDH2r')\n",
    "\n",
    "#model_iMM904_BY4741.genes.get_by_id('YNL241C') # G6PDH2r"
   ]
  },
  {
   "cell_type": "code",
   "execution_count": 14,
   "id": "95552d1e",
   "metadata": {},
   "outputs": [],
   "source": [
    "import pandas as pd\n",
    "from cameo import fba\n",
    "from cobra.flux_analysis import flux_variability_analysis\n",
    "\n",
    "flux_variability_analysis(model_iMM904_BY4741)\n",
    "table_FVA_flux_BY4741 = flux_variability_analysis(model_iMM904_BY4741)\n",
    "#table_FVA_flux_BY4741.to_csv('1_FVA_5_xyl_acet.csv')"
   ]
  },
  {
   "cell_type": "code",
   "execution_count": null,
   "id": "647e27b1",
   "metadata": {},
   "outputs": [],
   "source": []
  },
  {
   "cell_type": "code",
   "execution_count": null,
   "id": "44283c55",
   "metadata": {},
   "outputs": [],
   "source": []
  },
  {
   "cell_type": "code",
   "execution_count": null,
   "id": "f90f975c",
   "metadata": {},
   "outputs": [],
   "source": []
  },
  {
   "cell_type": "code",
   "execution_count": null,
   "id": "b9fc6b53",
   "metadata": {},
   "outputs": [],
   "source": []
  },
  {
   "cell_type": "code",
   "execution_count": null,
   "id": "f2635d10",
   "metadata": {},
   "outputs": [],
   "source": []
  },
  {
   "cell_type": "code",
   "execution_count": null,
   "id": "48315117",
   "metadata": {},
   "outputs": [],
   "source": []
  },
  {
   "cell_type": "code",
   "execution_count": null,
   "id": "f9416e90",
   "metadata": {},
   "outputs": [],
   "source": []
  },
  {
   "cell_type": "code",
   "execution_count": null,
   "id": "c8557134",
   "metadata": {},
   "outputs": [],
   "source": []
  },
  {
   "cell_type": "code",
   "execution_count": null,
   "id": "bd96ef35",
   "metadata": {},
   "outputs": [],
   "source": []
  },
  {
   "cell_type": "markdown",
   "id": "91ef77e0",
   "metadata": {},
   "source": [
    "# XAE: BY4741 ∆gre3::xylA*3-XKS1 ∆pho13::xylA*3-Tal1 ∆PMR1(G681A) ∆ASC1(Q237stop) [ALE on xylose and acetate] <br>\n",
    "\n",
    "BY4741: MATa his3Δ1 leu2Δ0 met15Δ0 ura3Δ0 <br>\n",
    "XAE: BY4741 ∆gre3::xylA*3-XKS1 ∆pho13::xylA*3-Tal1 ∆PMR1(G681A) ∆ASC1(Q237stop)<br>\n",
    "1) Glucose only <br>\n",
    "2) Xylose only <br>\n",
    "3) Acetate only <br>\n",
    "4) Glu + Acet <br>\n",
    "5) Xyl + Acet <br>"
   ]
  },
  {
   "cell_type": "code",
   "execution_count": 47,
   "id": "310be679",
   "metadata": {},
   "outputs": [],
   "source": [
    "from cobra.io import read_sbml_model\n",
    "model_iMM904_XAE = read_sbml_model('iMM904.xml')\n",
    "model_iMM904_XAE.solver\n",
    "\n",
    "model_iMM904_XAE.genes.YCL018W.knock_out() #LEU2, BY4741\n",
    "model_iMM904_XAE.genes.YEL021W.knock_out() #URA3, BY4741\n",
    "model_iMM904_XAE.genes.YLR303W.knock_out() #MET17, BY4741\n",
    "model_iMM904_XAE.reactions.XYLR.knock_out() # xylose reductase (YHR104W) pathway was deleted!! h_c + nadph_c + xyl__D_c --> nadp_c + xylt_c\n",
    "\n",
    "model_iMM904_XAE.genes.YHR104W.knock_out() #GRE3, XAE\n",
    "# PHO13 (YDL236W) is not present in iMM904 model. H2O [cytoplasm] + 4-nitrophenyl phosphate [cytoplasm] --> H+ [cytoplasm] + phosphate [cytoplasm] + 4-nitrophenol [cytoplasm]\n",
    "# PMR1 (YGL167C) is not present in iMM904 model. H2O [Golgi] + Ca(2+) [cytoplasm] + ATP [Golgi] --> H+ [Golgi] + phosphate [Golgi] + Ca(2+) [Golgi] + ADP [Golgi]\n",
    "# ASC1 (YMR116C) is not present in iMM904 model. required to prevent frameshifting at ribosomes stalled at repeated CGA codons (https://www.yeastgenome.org/locus/S000004722)\n",
    "\n",
    "# XylA (r_8001) : xyl__D_c ⇌ xylu__D_c\n",
    "from cobra import Reaction\n",
    "reaction1 = Reaction('r_8001')\n",
    "reaction1.name = 'Xylose isomerase'\n",
    "reaction1.lower_bound = - 1000\n",
    "reaction1.upper_bound = 1000\n",
    "reaction1.add_metabolites({model_iMM904_XAE.metabolites.get_by_id(\"xyl__D_c\"): - 1.0, \n",
    "                           model_iMM904_XAE.metabolites.get_by_id(\"xylu__D_c\"): 1.0})\n",
    "reaction1.gene_reaction_rule = 'XylA'\n",
    "model_iMM904_XAE.add_reaction(reaction1)\n",
    "\n",
    "# Overexpression target of TAL1 (YGR043C and YLR354C) is present in iMM904 model.  \n",
    "# Overexpression target of XKS1 (YGR194C) is present in iMM904 model.  "
   ]
  },
  {
   "cell_type": "code",
   "execution_count": 75,
   "id": "d80acb01",
   "metadata": {},
   "outputs": [
    {
     "data": {
      "text/html": [
       "<strong>objective value: 999999.0</strong>"
      ],
      "text/plain": [
       "<cameo.flux_analysis.simulation.FluxDistributionResult at 0x16cb7e590>"
      ]
     },
     "execution_count": 75,
     "metadata": {},
     "output_type": "execute_result"
    }
   ],
   "source": [
    "# modify medium for the simulation based on Table A1. https://doi.org/10.1371/journal.pcbi.1005728\n",
    "# unit (mmol/gDW/h): 1 mol of glucose every 24h to 1 gram of bacteria you might set the upper exchange flux for glucose to \"1 mol / [1 gDW * 24 h]\" (https://cobrapy.readthedocs.io/en/latest/media.html)\n",
    "\n",
    "medium_iMM904_XAE = model_iMM904_XAE.medium\n",
    "\n",
    "medium_iMM904_XAE[\"EX_ura_e\"]= 1000    ### uracil[e] =>\n",
    "medium_iMM904_XAE[\"EX_ade_e\"]= 0   # adenine[e] => \n",
    "medium_iMM904_XAE[\"EX_cit_e\"]= 0   # citrate[e] => \n",
    "medium_iMM904_XAE[\"EX_gly_e\"]= 0   # L-glycine[e] => \n",
    "medium_iMM904_XAE[\"EX_ala__L_e\"]= 0   # L-alanine[e] => \n",
    "medium_iMM904_XAE[\"EX_arg__L_e\"]= 0   # L-arginine[e] => \n",
    "medium_iMM904_XAE[\"EX_asn__L_e\"]= 0   # L-asparagine[e] => \n",
    "medium_iMM904_XAE[\"EX_asp__L_e\"]= 0   # L-aspartate[e] => \n",
    "medium_iMM904_XAE[\"EX_cys__L_e\"]= 0   # L-cysteine[e] => \n",
    "medium_iMM904_XAE[\"EX_glu__L_e\"]= 0   # L-glutamate[e] => \n",
    "medium_iMM904_XAE[\"EX_gln__L_e\"]= 0   # L-glutamine[e] => \n",
    "medium_iMM904_XAE[\"EX_ile__L_e\"]= 0   # L-isoleucine[e] => \n",
    "medium_iMM904_XAE[\"EX_leu__L_e\"]= 1000   ### L-leucine[e] => \n",
    "medium_iMM904_XAE[\"EX_lys__L_e\"]= 0   # L-lysine[e] => \n",
    "medium_iMM904_XAE[\"EX_met__L_e\"]= 0   # L-methionine[e] => \n",
    "medium_iMM904_XAE[\"EX_phe__L_e\"]= 0   # L-phenylalanine[e] => \n",
    "medium_iMM904_XAE[\"EX_pro__L_e\"]= 0   # L-proline[e] => \n",
    "medium_iMM904_XAE[\"EX_ser__L_e\"]= 0   # L-serine[e] => \n",
    "medium_iMM904_XAE[\"EX_thr__L_e\"]= 0   # L-threonine[e] => \n",
    "medium_iMM904_XAE[\"EX_trp__L_e\"]= 0   # L-tryptophan[e] => \n",
    "medium_iMM904_XAE[\"EX_tyr__L_e\"]= 0   # L-tyrosine[e] => \n",
    "medium_iMM904_XAE[\"EX_val__L_e\"]= 0   # L-valine[e] => \n",
    "medium_iMM904_XAE[\"EX_ribflv_e\"]= 0   # riboflavin[e] => \n",
    "medium_iMM904_XAE[\"EX_pnto__R_e\"]= 0.78   # (R)-pantothenate[e] => \n",
    "medium_iMM904_XAE[\"EX_4abz_e\"]= 0.78   # 4-aminobenzoate[e] => \n",
    "medium_iMM904_XAE[\"EX_btn_e\"]= 0.78   # biotin[e] => \n",
    "medium_iMM904_XAE[\"EX_inost_e\"]= 0.78   # myo-inositol[e] => \n",
    "medium_iMM904_XAE[\"EX_nac_e\"]= 0.78   # nicotinate[e] => \n",
    "medium_iMM904_XAE[\"EX_thmpp_e\"]= 0.78   # thiamine[e] => \n",
    "medium_iMM904_XAE[\"EX_nh4_e\"]= 1000   # ammonium[e] <=> \n",
    "medium_iMM904_XAE[\"EX_fe2_e\"]= 1000   # iron(2+)[e] <=> \n",
    "medium_iMM904_XAE[\"EX_pi_e\"]= 1000   # phosphate[e] <=> \n",
    "medium_iMM904_XAE[\"EX_k_e\"]= 1000   # potassium[e] <=> \n",
    "medium_iMM904_XAE[\"EX_na1_e\"]= 1000   # sodium[e] <=> \n",
    "medium_iMM904_XAE[\"EX_so4_e\"]= 1000   # sulphate[e] <=> \n",
    "medium_iMM904_XAE[\"EX_h2o_e\"]= 1000  # H2O\n",
    "medium_iMM904_XAE[\"EX_h_e\"]= 1000  #H+\n",
    "#not present: medium_iMM904_XAE[\"r_2028\"]= 0.78   # pyridoxine[e] => \n",
    "#not present: medium_iMM904_XAE[\"r_1792\"]= 0   # folate[e] => \n",
    "#not present: medium_iMM904_XAE[\"r_4593\"]= 1000   # chloride[e] <=> \n",
    "#not present: medium_iMM904_XAE[\"r_4597\"]= 1000   # Mg(2+)[e] <=> \n",
    "#not present: medium_iMM904_XAE[\"r_4600\"]= 1000   # Ca(2+)[e] <=> \n",
    "medium_iMM904_XAE[\"EX_o2_e\"]= 1000   # oxygen[e] <=>      # if anaerobic, set 0\n",
    "\n",
    "#1) Glucose only <br>\n",
    "#2) Xylose only <br>\n",
    "#3) Acetate only <br>\n",
    "#4) Glu + Acet <br>\n",
    "#5) Xyl + Acet <br>\n",
    "medium_iMM904_XAE[\"EX_glc__D_e\"]= 0   # D-glucose[e] <=> \n",
    "medium_iMM904_XAE[\"EX_xyl__D_e\"]= 0    # D-xylose[e] => \n",
    "medium_iMM904_XAE[\"EX_ac_e\"]=     2    # acetate[e] => \n",
    "\n",
    "model_iMM904_XAE.medium = medium_iMM904_XAE\n",
    "model_iMM904_XAE.medium\n",
    "\n",
    "from cameo import fba\n",
    "import pandas as pd\n",
    "\n",
    "fba_result_iMM904_XAE = fba(model_iMM904_XAE)\n",
    "fba_result_iMM904_XAE\n",
    "#fba_result_iMM904_XAE.data_frame\n",
    "#fba_result_iMM904_XAE.data_frame.to_csv('2_XAE_5_xyl_acet.csv')\n"
   ]
  },
  {
   "cell_type": "code",
   "execution_count": 82,
   "id": "2406d874",
   "metadata": {},
   "outputs": [
    {
     "data": {
      "text/html": [
       "\n",
       "        <table>\n",
       "            <tr>\n",
       "                <td><strong>Gene identifier</strong></td><td>YMR120C</td>\n",
       "            </tr><tr>\n",
       "                <td><strong>Name</strong></td><td>ADE17</td>\n",
       "            </tr><tr>\n",
       "                <td><strong>Memory address</strong></td>\n",
       "                <td>0x0178031290</td>\n",
       "            </tr><tr>\n",
       "                <td><strong>Functional</strong></td><td>True</td>\n",
       "            </tr><tr>\n",
       "                <td><strong>In 2 reaction(s)</strong></td><td>\n",
       "                    AICART, IMPC</td>\n",
       "            </tr>\n",
       "        </table>"
      ],
      "text/plain": [
       "<Gene YMR120C at 0x178031290>"
      ]
     },
     "execution_count": 82,
     "metadata": {},
     "output_type": "execute_result"
    }
   ],
   "source": [
    "model_iMM904_XAE.reactions.get_by_id('ACtr').flux\n",
    "\n",
    "model_iMM904_XAE.genes.get_by_id('YCR010C') #ADY2, Rxn: ACtr\n",
    "#model_iMM904_XAE.genes.get_by_id('YNR002C') #ATO2, not present in the model\n",
    "model_iMM904_XAE.genes.get_by_id('YKL217W') #JEN1, Rxn: L_LACt2r, PYRt2, D_LACt2\n",
    "model_iMM904_XAE.genes.get_by_id('YAR015W') #ADE1, Rxn: PRASCSi\n",
    "model_iMM904_XAE.genes.get_by_id('YLR359W') #ADE13, Rxn: ADSL2r, ADSL1r\n",
    "model_iMM904_XAE.genes.get_by_id('YMR120C') #ADE17, Rxn: AICART, IMPC"
   ]
  },
  {
   "cell_type": "code",
   "execution_count": 68,
   "id": "22ccadd5",
   "metadata": {},
   "outputs": [
    {
     "data": {
      "text/plain": [
       "999999.0"
      ]
     },
     "execution_count": 68,
     "metadata": {},
     "output_type": "execute_result"
    }
   ],
   "source": [
    "# change objective\n",
    "\n",
    "#fba_result_iMM904_XAE\n",
    "model_iMM904_XAE.objective = \"ALCD2ir\" # acald_c + h_c + nadh_c --> etoh_c + nad_c\n",
    "model_iMM904_XAE.optimize().objective_value"
   ]
  },
  {
   "cell_type": "code",
   "execution_count": 53,
   "id": "ab33d86c",
   "metadata": {},
   "outputs": [
    {
     "name": "stdout",
     "output_type": "stream",
     "text": [
      "Downloading Map from https://escher.github.io/1-0-0/6/maps/Saccharomyces%20cerevisiae/iMM904.Central%20carbon%20metabolism.json\n"
     ]
    },
    {
     "data": {
      "application/vnd.jupyter.widget-view+json": {
       "model_id": "d454f42c159f4fe7b121d85c8070933b",
       "version_major": 2,
       "version_minor": 0
      },
      "text/plain": [
       "Builder(reaction_data={'CITtcp': 0.0, '13BGH': 0.0, '13BGHe': 0.0, '13GS': 3.5737033277483627, '16GS': 0.0, '2…"
      ]
     },
     "metadata": {},
     "output_type": "display_data"
    }
   ],
   "source": [
    "import ipywidgets as widgets\n",
    "from IPython.display import display\n",
    "import cobra\n",
    "import escher\n",
    "\n",
    "solution = model_iMM904_XAE.optimize()\n",
    "escher.Builder('iMM904.Central carbon metabolism', reaction_data = solution.fluxes)\n"
   ]
  },
  {
   "cell_type": "code",
   "execution_count": 169,
   "id": "61c2516c",
   "metadata": {},
   "outputs": [],
   "source": [
    "import pandas as pd\n",
    "from cameo import fba\n",
    "from cobra.flux_analysis import flux_variability_analysis\n",
    "\n",
    "flux_variability_analysis(model_iMM904_XAE)\n",
    "table_FVA_flux_XAE = flux_variability_analysis(model_iMM904_XAE)\n",
    "#table_FVA_flux_XAE.to_csv('2_XAE_FVA_5_xyl_acet.csv')"
   ]
  },
  {
   "cell_type": "code",
   "execution_count": 145,
   "id": "032ae5cd",
   "metadata": {},
   "outputs": [],
   "source": [
    "# change objective\n",
    "\n",
    "#model_iMM904_XAE.objective = \"ALCD2ir\"\n",
    "#model_iMM904_XAE.optimize().objective_value"
   ]
  },
  {
   "cell_type": "code",
   "execution_count": null,
   "id": "16d8cc0b",
   "metadata": {},
   "outputs": [],
   "source": []
  },
  {
   "cell_type": "code",
   "execution_count": null,
   "id": "2a353dc1",
   "metadata": {},
   "outputs": [],
   "source": []
  },
  {
   "cell_type": "code",
   "execution_count": null,
   "id": "1410c73c",
   "metadata": {},
   "outputs": [],
   "source": []
  },
  {
   "cell_type": "markdown",
   "id": "67b580bb",
   "metadata": {},
   "source": [
    "# XAE-A1: XAE ∆gpd2::CoAdhE/SeACS ∆ald6 \n",
    "BY4741: MATa his3Δ1 leu2Δ0 met15Δ0 ura3Δ0 <br/>\n",
    "XAE: BY4741 ∆gre3::xylA*3-XKS1 ∆pho13::xylA*3-Tal1 ∆PMR1(G681A) ∆ASC1(Q237stop)<br>\n",
    "XAE-A1: XAE ∆gpd2::CoAdhE/SeACS ∆ald6\n",
    "\n",
    "1) Glucose only <br>\n",
    "2) Xylose only <br>\n",
    "3) Acetate only <br>\n",
    "4) Glu + Acet <br>\n",
    "5) Xyl + Acet <br>"
   ]
  },
  {
   "cell_type": "code",
   "execution_count": 54,
   "id": "5df655b0",
   "metadata": {},
   "outputs": [],
   "source": [
    "from cobra.io import read_sbml_model\n",
    "model_iMM904_XAE_A1 = read_sbml_model('iMM904.xml')\n",
    "model_iMM904_XAE_A1.solver\n",
    "\n",
    "model_iMM904_XAE_A1.genes.YCL018W.knock_out() #LEU2, BY4741\n",
    "model_iMM904_XAE_A1.genes.YEL021W.knock_out() #URA3, BY4741\n",
    "model_iMM904_XAE_A1.genes.YLR303W.knock_out() #MET17, BY4741\n",
    "model_iMM904_XAE.reactions.XYLR.knock_out() # xylose reductase (YHR104W) pathway was deleted!! h_c + nadph_c + xyl__D_c --> nadp_c + xylt_c\n",
    "\n",
    "model_iMM904_XAE_A1.genes.YHR104W.knock_out() #GRE3, XAE\n",
    "# PHO13 (YDL236W) is not present in iMM904 model. H2O [cytoplasm] + 4-nitrophenyl phosphate [cytoplasm] --> H+ [cytoplasm] + phosphate [cytoplasm] + 4-nitrophenol [cytoplasm]\n",
    "# PMR1 (YGL167C) is not present in iMM904 model. H2O [Golgi] + Ca(2+) [cytoplasm] + ATP [Golgi] --> H+ [Golgi] + phosphate [Golgi] + Ca(2+) [Golgi] + ADP [Golgi]\n",
    "# ASC1 (YMR116C) is not present in iMM904 model. required to prevent frameshifting at ribosomes stalled at repeated CGA codons (https://www.yeastgenome.org/locus/S000004722)\n",
    "\n",
    "model_iMM904_XAE_A1.genes.YOL059W.knock_out() #GPD2, XAE-A1\n",
    "model_iMM904_XAE_A1.genes.YPL061W.knock_out() #ALD6, XAE-A1\n",
    "\n",
    "\n",
    "\n",
    "# XylA (r_8001) : xyl__D_c ⇌ xylu__D_c\n",
    "from cobra import Reaction\n",
    "reaction1 = Reaction('r_8001')\n",
    "reaction1.name = 'Xylose isomerase'\n",
    "reaction1.lower_bound = - 1000\n",
    "reaction1.upper_bound = 1000\n",
    "reaction1.add_metabolites({model_iMM904_XAE_A1.metabolites.get_by_id(\"xyl__D_c\"): - 1.0, \n",
    "                           model_iMM904_XAE_A1.metabolites.get_by_id(\"xylu__D_c\"): 1.0})\n",
    "reaction1.gene_reaction_rule = 'XylA'\n",
    "model_iMM904_XAE_A1.add_reaction(reaction1)\n",
    "\n",
    "# AdhE (r_8002) : acald_c + coa_c + nad_c ⇌ accoa_c + h_c + nadh_c\n",
    "from cobra import Reaction\n",
    "reaction2 = Reaction('r_8002')\n",
    "reaction2.name = 'Acetaldehyde dehydrogenase'\n",
    "reaction2.lower_bound = - 1000\n",
    "reaction2.upper_bound = 1000\n",
    "reaction2.add_metabolites({\n",
    "    model_iMM904_XAE_A1.metabolites.get_by_id(\"acald_c\"): - 1.0, \n",
    "    model_iMM904_XAE_A1.metabolites.get_by_id(\"coa_c\"): - 1.0, \n",
    "    model_iMM904_XAE_A1.metabolites.get_by_id(\"nad_c\"): - 1.0,\n",
    "    model_iMM904_XAE_A1.metabolites.get_by_id(\"accoa_c\"): 1.0, \n",
    "    model_iMM904_XAE_A1.metabolites.get_by_id(\"h_c\"): 1.0, \n",
    "    model_iMM904_XAE_A1.metabolites.get_by_id(\"nadh_c\"): 1.0})\n",
    "reaction2.gene_reaction_rule = 'AdhE'\n",
    "model_iMM904_XAE_A1.add_reaction(reaction2)\n",
    "\n",
    "# ACS (r_8003) : ac_c + atp_c + coa_c → accoa_c + amp_c + ppi_c\n",
    "from cobra import Reaction\n",
    "reaction3 = Reaction('r_8003')\n",
    "reaction3.name = 'Acetyl-CoA synthetase'\n",
    "reaction3.lower_bound = 0\n",
    "reaction3.upper_bound = 1000\n",
    "reaction3.add_metabolites({\n",
    "    model_iMM904_XAE_A1.metabolites.get_by_id(\"ac_c\"): - 1.0, \n",
    "    model_iMM904_XAE_A1.metabolites.get_by_id(\"atp_c\"): - 1.0, \n",
    "    model_iMM904_XAE_A1.metabolites.get_by_id(\"coa_c\"): - 1.0,\n",
    "    model_iMM904_XAE_A1.metabolites.get_by_id(\"accoa_c\"): 1.0, \n",
    "    model_iMM904_XAE_A1.metabolites.get_by_id(\"amp_c\"): 1.0, \n",
    "    model_iMM904_XAE_A1.metabolites.get_by_id(\"ppi_c\"): 1.0})\n",
    "reaction3.gene_reaction_rule = 'ACS'\n",
    "model_iMM904_XAE_A1.add_reaction(reaction3)\n",
    "\n",
    "# Overexpression target of TAL1 (YGR043C and YLR354C) is present in iMM904 model.  \n",
    "# Overexpression target of XKS1 (YGR194C) is present in iMM904 model.  "
   ]
  },
  {
   "cell_type": "code",
   "execution_count": 73,
   "id": "fc050b8a",
   "metadata": {},
   "outputs": [
    {
     "data": {
      "text/html": [
       "<strong>objective value: 999999.0</strong>"
      ],
      "text/plain": [
       "<cameo.flux_analysis.simulation.FluxDistributionResult at 0x16cb7e810>"
      ]
     },
     "execution_count": 73,
     "metadata": {},
     "output_type": "execute_result"
    }
   ],
   "source": [
    "# modify medium for the simulation based on Table A1. https://doi.org/10.1371/journal.pcbi.1005728\n",
    "# unit (mmol/gDW/h): 1 mol of glucose every 24h to 1 gram of bacteria you might set the upper exchange flux for glucose to \"1 mol / [1 gDW * 24 h]\" (https://cobrapy.readthedocs.io/en/latest/media.html)\n",
    "\n",
    "medium_iMM904_XAE_A1 = model_iMM904_XAE_A1.medium\n",
    "\n",
    "medium_iMM904_XAE_A1[\"EX_ura_e\"]= 1000    ### uracil[e] =>\n",
    "medium_iMM904_XAE_A1[\"EX_ade_e\"]= 0   # adenine[e] => \n",
    "medium_iMM904_XAE_A1[\"EX_cit_e\"]= 0   # citrate[e] => \n",
    "medium_iMM904_XAE_A1[\"EX_gly_e\"]= 0   # L-glycine[e] => \n",
    "medium_iMM904_XAE_A1[\"EX_ala__L_e\"]= 0   # L-alanine[e] => \n",
    "medium_iMM904_XAE_A1[\"EX_arg__L_e\"]= 0   # L-arginine[e] => \n",
    "medium_iMM904_XAE_A1[\"EX_asn__L_e\"]= 0   # L-asparagine[e] => \n",
    "medium_iMM904_XAE_A1[\"EX_asp__L_e\"]= 0   # L-aspartate[e] => \n",
    "medium_iMM904_XAE_A1[\"EX_cys__L_e\"]= 0   # L-cysteine[e] => \n",
    "medium_iMM904_XAE_A1[\"EX_glu__L_e\"]= 0   # L-glutamate[e] => \n",
    "medium_iMM904_XAE_A1[\"EX_gln__L_e\"]= 0   # L-glutamine[e] => \n",
    "medium_iMM904_XAE_A1[\"EX_ile__L_e\"]= 0   # L-isoleucine[e] => \n",
    "medium_iMM904_XAE_A1[\"EX_leu__L_e\"]= 1000   ### L-leucine[e] => \n",
    "medium_iMM904_XAE_A1[\"EX_lys__L_e\"]= 0   # L-lysine[e] => \n",
    "medium_iMM904_XAE_A1[\"EX_met__L_e\"]= 0   # L-methionine[e] => \n",
    "medium_iMM904_XAE_A1[\"EX_phe__L_e\"]= 0   # L-phenylalanine[e] => \n",
    "medium_iMM904_XAE_A1[\"EX_pro__L_e\"]= 0   # L-proline[e] => \n",
    "medium_iMM904_XAE_A1[\"EX_ser__L_e\"]= 0   # L-serine[e] => \n",
    "medium_iMM904_XAE_A1[\"EX_thr__L_e\"]= 0   # L-threonine[e] => \n",
    "medium_iMM904_XAE_A1[\"EX_trp__L_e\"]= 0   # L-tryptophan[e] => \n",
    "medium_iMM904_XAE_A1[\"EX_tyr__L_e\"]= 0   # L-tyrosine[e] => \n",
    "medium_iMM904_XAE_A1[\"EX_val__L_e\"]= 0   # L-valine[e] => \n",
    "medium_iMM904_XAE_A1[\"EX_ribflv_e\"]= 0   # riboflavin[e] => \n",
    "medium_iMM904_XAE_A1[\"EX_pnto__R_e\"]= 0.78   # (R)-pantothenate[e] => \n",
    "medium_iMM904_XAE_A1[\"EX_4abz_e\"]= 0.78   # 4-aminobenzoate[e] => \n",
    "medium_iMM904_XAE_A1[\"EX_btn_e\"]= 0.78   # biotin[e] => \n",
    "medium_iMM904_XAE_A1[\"EX_inost_e\"]= 0.78   # myo-inositol[e] => \n",
    "medium_iMM904_XAE_A1[\"EX_nac_e\"]= 0.78   # nicotinate[e] => \n",
    "medium_iMM904_XAE_A1[\"EX_thmpp_e\"]= 0.78   # thiamine[e] => \n",
    "medium_iMM904_XAE_A1[\"EX_nh4_e\"]= 1000   # ammonium[e] <=> \n",
    "medium_iMM904_XAE_A1[\"EX_fe2_e\"]= 1000   # iron(2+)[e] <=> \n",
    "medium_iMM904_XAE_A1[\"EX_pi_e\"]= 1000   # phosphate[e] <=> \n",
    "medium_iMM904_XAE_A1[\"EX_k_e\"]= 1000   # potassium[e] <=> \n",
    "medium_iMM904_XAE_A1[\"EX_na1_e\"]= 1000   # sodium[e] <=> \n",
    "medium_iMM904_XAE_A1[\"EX_so4_e\"]= 1000   # sulphate[e] <=> \n",
    "medium_iMM904_XAE_A1[\"EX_h2o_e\"]= 1000  # H2O\n",
    "medium_iMM904_XAE_A1[\"EX_h_e\"]= 1000  #H+\n",
    "#not present: medium_iMM904_XAE_A1[\"r_2028\"]= 0.78   # pyridoxine[e] => \n",
    "#not present: medium_iMM904_XAE_A1[\"r_1792\"]= 0   # folate[e] => \n",
    "#not present: medium_iMM904_XAE_A1[\"r_4593\"]= 1000   # chloride[e] <=> \n",
    "#not present: medium_iMM904_XAE_A1[\"r_4597\"]= 1000   # Mg(2+)[e] <=> \n",
    "#not present: medium_iMM904_XAE_A1[\"r_4600\"]= 1000   # Ca(2+)[e] <=> \n",
    "medium_iMM904_XAE_A1[\"EX_o2_e\"]= 1000   # oxygen[e] <=>      # if anaerobic, set 0\n",
    "\n",
    "#1) Glucose only <br>\n",
    "#2) Xylose only <br>\n",
    "#3) Acetate only <br>\n",
    "#4) Glu + Acet <br>\n",
    "#5) Xyl + Acet <br>\n",
    "medium_iMM904_XAE_A1[\"EX_glc__D_e\"]= 0   # D-glucose[e] <=> \n",
    "medium_iMM904_XAE_A1[\"EX_xyl__D_e\"]= 20    # D-xylose[e] => \n",
    "medium_iMM904_XAE_A1[\"EX_ac_e\"]=     2    # acetate[e] => \n",
    "\n",
    "model_iMM904_XAE_A1.medium = medium_iMM904_XAE_A1\n",
    "model_iMM904_XAE_A1.medium\n",
    "\n",
    "from cameo import fba\n",
    "import pandas as pd\n",
    "\n",
    "fba_result_iMM904_XAE_A1 = fba(model_iMM904_XAE_A1)\n",
    "fba_result_iMM904_XAE_A1\n",
    "#fba_result_iMM904_XAE_A1.data_frame\n",
    "#fba_result_iMM904_XAE_A1.data_frame.to_csv('3_XAEA1_5_xyl_acet.csv')\n"
   ]
  },
  {
   "cell_type": "code",
   "execution_count": 72,
   "id": "106a9225",
   "metadata": {},
   "outputs": [
    {
     "data": {
      "text/plain": [
       "999999.0"
      ]
     },
     "execution_count": 72,
     "metadata": {},
     "output_type": "execute_result"
    }
   ],
   "source": [
    "# change objective\n",
    "\n",
    "#fba_result_iMM904_XAE_A1\n",
    "model_iMM904_XAE_A1.objective = \"ALCD2ir\" # acald_c + h_c + nadh_c --> etoh_c + nad_c\n",
    "model_iMM904_XAE_A1.optimize().objective_value"
   ]
  },
  {
   "cell_type": "code",
   "execution_count": 60,
   "id": "d404c551",
   "metadata": {},
   "outputs": [
    {
     "name": "stdout",
     "output_type": "stream",
     "text": [
      "Downloading Map from https://escher.github.io/1-0-0/6/maps/Saccharomyces%20cerevisiae/iMM904.Central%20carbon%20metabolism.json\n"
     ]
    },
    {
     "data": {
      "application/vnd.jupyter.widget-view+json": {
       "model_id": "e3b36a67eb574d31838ad16538a0b9bc",
       "version_major": 2,
       "version_minor": 0
      },
      "text/plain": [
       "Builder(reaction_data={'CITtcp': 0.0, '13BGH': 0.0, '13BGHe': 0.0, '13GS': 3.5737033277484285, '16GS': 0.0, '2…"
      ]
     },
     "metadata": {},
     "output_type": "display_data"
    }
   ],
   "source": [
    "import ipywidgets as widgets\n",
    "from IPython.display import display\n",
    "import cobra\n",
    "import escher\n",
    "\n",
    "solution = model_iMM904_XAE_A1.optimize()\n",
    "escher.Builder('iMM904.Central carbon metabolism', reaction_data = solution.fluxes)\n"
   ]
  },
  {
   "cell_type": "code",
   "execution_count": 173,
   "id": "550065f5",
   "metadata": {},
   "outputs": [],
   "source": [
    "import pandas as pd\n",
    "from cameo import fba\n",
    "from cobra.flux_analysis import flux_variability_analysis\n",
    "\n",
    "flux_variability_analysis(model_iMM904_XAE_A1)\n",
    "table_FVA_flux_XAE_A1 = flux_variability_analysis(model_iMM904_XAE_A1)\n",
    "#table_FVA_flux_XAE_A1.to_csv('3_XAEA1_FVA_5_xyl_acet.csv')"
   ]
  },
  {
   "cell_type": "code",
   "execution_count": null,
   "id": "ff8db1e4",
   "metadata": {},
   "outputs": [],
   "source": []
  },
  {
   "cell_type": "code",
   "execution_count": null,
   "id": "6ff16ab6",
   "metadata": {},
   "outputs": [],
   "source": []
  },
  {
   "cell_type": "code",
   "execution_count": null,
   "id": "d9283cd7",
   "metadata": {},
   "outputs": [],
   "source": []
  },
  {
   "cell_type": "code",
   "execution_count": null,
   "id": "f2cd1f03",
   "metadata": {},
   "outputs": [],
   "source": []
  },
  {
   "cell_type": "code",
   "execution_count": null,
   "id": "25d2add7",
   "metadata": {},
   "outputs": [],
   "source": []
  },
  {
   "cell_type": "code",
   "execution_count": null,
   "id": "106be100",
   "metadata": {},
   "outputs": [],
   "source": []
  },
  {
   "cell_type": "code",
   "execution_count": null,
   "id": "9b6379d7",
   "metadata": {},
   "outputs": [],
   "source": []
  },
  {
   "cell_type": "code",
   "execution_count": null,
   "id": "71f117e3",
   "metadata": {},
   "outputs": [],
   "source": []
  },
  {
   "cell_type": "markdown",
   "id": "deaf42db",
   "metadata": {},
   "source": [
    "# FVA (flux variability analysis) <br>\n",
    ": finds the ranges of each metabolic flux at the optimum.\n",
    "\n",
    "https://www.sciencedirect.com/science/article/pii/S0888754321000240 <br>\n",
    "Flux variability analysis (FVA) determines a range of minimum and maximum fluxes of a reaction that permit optimal flux to flow through the objective function.<br>\n",
    "\n",
    "If the difference between minimum and maximum flux values for a reaction is non-zero, it indicates that there exists a high flexibility (plasticity) for that reaction and the organism has alternate compensatory pathways for survival. <br>\n",
    "Alternatively, when the difference in min and max flux values is zero, plasticity of the reaction is low and hence the reaction is crucial for organism's survival. The genes associated with these reactions are considered to be essential to the organism.<br>"
   ]
  },
  {
   "cell_type": "code",
   "execution_count": null,
   "id": "f44a8c9a",
   "metadata": {},
   "outputs": [],
   "source": [
    "import pandas as pd\n",
    "from cameo import fba\n",
    "from cobra.flux_analysis import flux_variability_analysis\n",
    "\n",
    "flux_variability_analysis(model_iMM904_BY4741)\n",
    "table_FVA_flux_BY4741 = flux_variability_analysis(model_iMM904_BY4741)\n",
    "table_FVA_flux_BY4741.data_frame\n",
    "#table_FVA_flux_BY4741.data_frame.to_csv('1_FVA_4_glu_acet.csv')\n",
    "\n",
    "\n",
    "flux_variability_analysis(model_iMM904_XAE)\n",
    "\n",
    "flux_variability_analysis(model_iMM904_XAE_A1)\n"
   ]
  },
  {
   "cell_type": "code",
   "execution_count": null,
   "id": "5a9997aa",
   "metadata": {},
   "outputs": [],
   "source": []
  },
  {
   "cell_type": "code",
   "execution_count": null,
   "id": "94ba9959",
   "metadata": {},
   "outputs": [],
   "source": []
  },
  {
   "cell_type": "code",
   "execution_count": null,
   "id": "0cad058e",
   "metadata": {},
   "outputs": [],
   "source": []
  },
  {
   "cell_type": "code",
   "execution_count": null,
   "id": "52998cd2",
   "metadata": {},
   "outputs": [],
   "source": []
  },
  {
   "cell_type": "code",
   "execution_count": null,
   "id": "79339caf",
   "metadata": {},
   "outputs": [],
   "source": []
  },
  {
   "cell_type": "code",
   "execution_count": null,
   "id": "50c0be94",
   "metadata": {},
   "outputs": [],
   "source": []
  },
  {
   "cell_type": "code",
   "execution_count": null,
   "id": "bd8557be",
   "metadata": {},
   "outputs": [],
   "source": []
  },
  {
   "cell_type": "markdown",
   "id": "5339f34e",
   "metadata": {},
   "source": [
    "# Resources"
   ]
  },
  {
   "cell_type": "code",
   "execution_count": 15,
   "id": "d84f3a01",
   "metadata": {},
   "outputs": [
    {
     "ename": "SyntaxError",
     "evalue": "invalid syntax (<ipython-input-15-a6620b4a757f>, line 4)",
     "output_type": "error",
     "traceback": [
      "\u001b[0;36m  File \u001b[0;32m\"<ipython-input-15-a6620b4a757f>\"\u001b[0;36m, line \u001b[0;32m4\u001b[0m\n\u001b[0;31m    4nphp_c (4-nitrophenyl phosphate) # http://bigg.ucsd.edu/universal/metabolites/4nphp\u001b[0m\n\u001b[0m          ^\u001b[0m\n\u001b[0;31mSyntaxError\u001b[0m\u001b[0;31m:\u001b[0m invalid syntax\n"
     ]
    }
   ],
   "source": [
    "# Absent metabolites in iMM904\n",
    "\n",
    "\n",
    "4nphp_c (4-nitrophenyl phosphate) # http://bigg.ucsd.edu/universal/metabolites/4nphp\n",
    "\n",
    "4nph_c (4-nitrophenol) # http://bigg.ucsd.edu/models/universal/metabolites/4nph\n",
    "\n",
    "ca2_c (Calcium) # http://bigg.ucsd.edu/universal/metabolites/ca2\n",
    "\n",
    "ca2_g (Calcium)\n",
    "\n"
   ]
  },
  {
   "cell_type": "code",
   "execution_count": 16,
   "id": "3b61359d",
   "metadata": {},
   "outputs": [
    {
     "ename": "NameError",
     "evalue": "name 'XAE_A1' is not defined",
     "output_type": "error",
     "traceback": [
      "\u001b[0;31m---------------------------------------------------------------------------\u001b[0m",
      "\u001b[0;31mNameError\u001b[0m                                 Traceback (most recent call last)",
      "\u001b[0;32m<ipython-input-16-e883da1f7f48>\u001b[0m in \u001b[0;36m<module>\u001b[0;34m\u001b[0m\n\u001b[1;32m      7\u001b[0m \u001b[0mreaction4\u001b[0m\u001b[0;34m.\u001b[0m\u001b[0mupper_bound\u001b[0m \u001b[0;34m=\u001b[0m \u001b[0;36m1000\u001b[0m\u001b[0;34m\u001b[0m\u001b[0;34m\u001b[0m\u001b[0m\n\u001b[1;32m      8\u001b[0m reaction4.add_metabolites({\n\u001b[0;32m----> 9\u001b[0;31m     \u001b[0mXAE_A1\u001b[0m\u001b[0;34m.\u001b[0m\u001b[0mmetabolites\u001b[0m\u001b[0;34m.\u001b[0m\u001b[0mget_by_id\u001b[0m\u001b[0;34m(\u001b[0m\u001b[0;34m\"s_0362[c]\"\u001b[0m\u001b[0;34m)\u001b[0m\u001b[0;34m:\u001b[0m \u001b[0;34m-\u001b[0m \u001b[0;36m1.0\u001b[0m\u001b[0;34m,\u001b[0m\u001b[0;34m\u001b[0m\u001b[0;34m\u001b[0m\u001b[0m\n\u001b[0m\u001b[1;32m     10\u001b[0m     \u001b[0mXAE_A1\u001b[0m\u001b[0;34m.\u001b[0m\u001b[0mmetabolites\u001b[0m\u001b[0;34m.\u001b[0m\u001b[0mget_by_id\u001b[0m\u001b[0;34m(\u001b[0m\u001b[0;34m\"s_0434[c]\"\u001b[0m\u001b[0;34m)\u001b[0m\u001b[0;34m:\u001b[0m \u001b[0;34m-\u001b[0m \u001b[0;36m1.0\u001b[0m\u001b[0;34m,\u001b[0m\u001b[0;34m\u001b[0m\u001b[0;34m\u001b[0m\u001b[0m\n\u001b[1;32m     11\u001b[0m     \u001b[0mXAE_A1\u001b[0m\u001b[0;34m.\u001b[0m\u001b[0mmetabolites\u001b[0m\u001b[0;34m.\u001b[0m\u001b[0mget_by_id\u001b[0m\u001b[0;34m(\u001b[0m\u001b[0;34m\"s_0529[c]\"\u001b[0m\u001b[0;34m)\u001b[0m\u001b[0;34m:\u001b[0m \u001b[0;34m-\u001b[0m \u001b[0;36m1.0\u001b[0m\u001b[0;34m,\u001b[0m\u001b[0;34m\u001b[0m\u001b[0;34m\u001b[0m\u001b[0m\n",
      "\u001b[0;31mNameError\u001b[0m: name 'XAE_A1' is not defined"
     ]
    }
   ],
   "source": [
    "# PHO13 (r_8004) : h2o_c + 4nphp_c --→ h_c + pi_c + 4nph_c\n",
    "\n",
    "from cobra import Reaction\n",
    "reaction4 = Reaction('r_8004')\n",
    "reaction4.name = 'Acetyl-CoA synthetase'\n",
    "reaction4.lower_bound = 0\n",
    "reaction4.upper_bound = 1000\n",
    "reaction4.add_metabolites({\n",
    "    XAE_A1.metabolites.get_by_id(\"s_0362[c]\"): - 1.0, \n",
    "    XAE_A1.metabolites.get_by_id(\"s_0434[c]\"): - 1.0, \n",
    "    XAE_A1.metabolites.get_by_id(\"s_0529[c]\"): - 1.0,\n",
    "    XAE_A1.metabolites.get_by_id(\"s_0373[c]\"): 1.0, \n",
    "    XAE_A1.metabolites.get_by_id(\"s_0423[c]\"): 1.0, \n",
    "    XAE_A1.metabolites.get_by_id(\"s_0633[c]\"): 1.0})\n",
    "reaction4.gene_reaction_rule = 'ACS'\n",
    "XAE_A1.add_reaction(reaction3)"
   ]
  },
  {
   "cell_type": "code",
   "execution_count": null,
   "id": "0870b9d8",
   "metadata": {},
   "outputs": [],
   "source": [
    "# PMR1 (r_8005) : h2o_g + ca2_c + atp_g --→ h_g + ca2_g + pi_g + adp_g\n",
    "\n",
    "from cobra import Reaction\n",
    "reaction4 = Reaction('r_8005')\n",
    "reaction4.name = 'Acetyl-CoA synthetase'\n",
    "reaction4.lower_bound = 0\n",
    "reaction4.upper_bound = 1000\n",
    "reaction4.add_metabolites({\n",
    "    XAE_A1.metabolites.get_by_id(\"s_0362[c]\"): - 1.0, \n",
    "    XAE_A1.metabolites.get_by_id(\"s_0434[c]\"): - 1.0, \n",
    "    XAE_A1.metabolites.get_by_id(\"s_0529[c]\"): - 1.0,\n",
    "    XAE_A1.metabolites.get_by_id(\"s_0373[c]\"): 1.0, \n",
    "    XAE_A1.metabolites.get_by_id(\"s_0423[c]\"): 1.0, \n",
    "    XAE_A1.metabolites.get_by_id(\"s_0633[c]\"): 1.0})\n",
    "reaction4.gene_reaction_rule = 'ACS'\n",
    "XAE_A1.add_reaction(reaction3)"
   ]
  },
  {
   "cell_type": "code",
   "execution_count": null,
   "id": "a0e2c6b7",
   "metadata": {},
   "outputs": [],
   "source": [
    "# ASC1 (r_8006) : \n",
    "\n",
    "from cobra import Reaction\n",
    "reaction4 = Reaction('r_8005')\n",
    "reaction4.name = 'Acetyl-CoA synthetase'\n",
    "reaction4.lower_bound = 0\n",
    "reaction4.upper_bound = 1000\n",
    "reaction4.add_metabolites({\n",
    "    XAE_A1.metabolites.get_by_id(\"s_0362[c]\"): - 1.0, \n",
    "    XAE_A1.metabolites.get_by_id(\"s_0434[c]\"): - 1.0, \n",
    "    XAE_A1.metabolites.get_by_id(\"s_0529[c]\"): - 1.0,\n",
    "    XAE_A1.metabolites.get_by_id(\"s_0373[c]\"): 1.0, \n",
    "    XAE_A1.metabolites.get_by_id(\"s_0423[c]\"): 1.0, \n",
    "    XAE_A1.metabolites.get_by_id(\"s_0633[c]\"): 1.0})\n",
    "reaction4.gene_reaction_rule = 'ACS'\n",
    "XAE_A1.add_reaction(reaction3)"
   ]
  }
 ],
 "metadata": {
  "kernelspec": {
   "display_name": "Python 3 (ipykernel)",
   "language": "python",
   "name": "python3"
  },
  "language_info": {
   "codemirror_mode": {
    "name": "ipython",
    "version": 3
   },
   "file_extension": ".py",
   "mimetype": "text/x-python",
   "name": "python",
   "nbconvert_exporter": "python",
   "pygments_lexer": "ipython3",
   "version": "3.10.4"
  }
 },
 "nbformat": 4,
 "nbformat_minor": 5
}
