{
 "cells": [
  {
   "cell_type": "markdown",
   "id": "ba6938aa",
   "metadata": {},
   "source": [
    "# Cobrapy\n",
    "Check whether the model (.xml) is validated for applying to Cobrapy (https://github.com/opencobra/cobrapy)"
   ]
  },
  {
   "cell_type": "code",
   "execution_count": null,
   "id": "f8285ea9",
   "metadata": {},
   "outputs": [],
   "source": [
    "import numpy as np\n",
    "import cobra\n",
    "import os\n",
    "from os.path import join\n",
    "\n",
    "from pprint import pprint\n",
    "from cobra.io import validate_sbml_model\n",
    "report = validate_sbml_model(filename='iMM904.xml') # (2009) https://pubmed.ncbi.nlm.nih.gov/19321003/\n",
    "pprint(report)"
   ]
  },
  {
   "cell_type": "code",
   "execution_count": null,
   "id": "92b5eb30",
   "metadata": {
    "scrolled": true
   },
   "outputs": [],
   "source": [
    "os.getcwd()"
   ]
  },
  {
   "cell_type": "markdown",
   "id": "1f029ef8",
   "metadata": {},
   "source": [
    "# Load a model (.xml file)"
   ]
  },
  {
   "cell_type": "code",
   "execution_count": null,
   "id": "f90241b0",
   "metadata": {},
   "outputs": [],
   "source": [
    "from cobra.io import read_sbml_model\n",
    "model= read_sbml_model('iMM904.xml')\n",
    "model\n",
    "\n",
    "# These reations are not found from Bigg: \n",
    "# ALCD2x_copy1, ALCD2x_copy2 ,CERH124_copy1, CERH126_copy1, CERH124_copy2, CERH126_copy2, GCC2cm_copy1, GCC2cm_copy2"
   ]
  },
  {
   "cell_type": "code",
   "execution_count": null,
   "id": "799530b0",
   "metadata": {},
   "outputs": [],
   "source": [
    "######################## Delete !!\n",
    "\n",
    "\n",
    "from cobra.io import read_sbml_model\n",
    "from cobra.flux_analysis import single_reaction_deletion\n",
    "import pandas as pd\n",
    "\n",
    "\n",
    "#model.genes.get_by_id('YHR104W')\n",
    "model.reactions.get_by_id('13GS')\n",
    "#model.reactions\n",
    "\n",
    "\n",
    "df = model.reactions.get_by_id('13GS')\n",
    "df_11 = pd.DataFrame(df, columns= ['Reactions'])\n",
    "#df_11.to_csv('test.csv', index = False)"
   ]
  },
  {
   "cell_type": "markdown",
   "id": "907497cb",
   "metadata": {},
   "source": [
    "# Check what reactions/metabolites/genes are present in the model"
   ]
  },
  {
   "cell_type": "code",
   "execution_count": null,
   "id": "a6cb0f65",
   "metadata": {},
   "outputs": [],
   "source": [
    "from cameo import fba\n",
    "import pandas as pd\n",
    "\n",
    "# reactions from iMM904\n",
    "model_rxn = model.reactions\n",
    "model_rxn_df = pd.DataFrame(model_rxn, columns= ['Reactions'])\n",
    "#model_rxn_df.to_csv('iMM904_rxn.csv', index = False)"
   ]
  },
  {
   "cell_type": "code",
   "execution_count": null,
   "id": "dcd5f89a",
   "metadata": {},
   "outputs": [],
   "source": [
    "# metabolites from iMM904\n",
    "model_met = model.metabolites\n",
    "model_met_df = pd.DataFrame(model_met, columns= ['Metabolites'])\n",
    "#model_met_df.to_csv('iMM904_met.csv', index = False)"
   ]
  },
  {
   "cell_type": "code",
   "execution_count": null,
   "id": "80c9474d",
   "metadata": {},
   "outputs": [],
   "source": [
    "# genes from iMM904\n",
    "model_gene = model.genes\n",
    "model_gene_df = pd.DataFrame(model_gene, columns=['Genes'])\n",
    "#model_gene_df.to_csv('iMM904_genes.csv', index = False)                                                "
   ]
  },
  {
   "cell_type": "code",
   "execution_count": null,
   "id": "f881eb8c",
   "metadata": {},
   "outputs": [],
   "source": [
    "model.medium"
   ]
  },
  {
   "cell_type": "markdown",
   "id": "52deba15",
   "metadata": {},
   "source": [
    "# BY4741: MATa his3Δ1 leu2Δ0 met15Δ0 ura3Δ0 <br>\n",
    "\n",
    "BY4741: MATa his3Δ1 leu2Δ0 met15Δ0 ura3Δ0 <br>\n",
    "\n",
    "Modify medium for the simulation based on Table A1. https://doi.org/10.1371/journal.pcbi.1005728\n",
    "1) Glucose only <br>\n",
    "2) Xylose only <br>\n",
    "3) Acetate only <br>\n",
    "4) Glu + Acet <br>\n",
    "5) Xyl + Acet <br>"
   ]
  },
  {
   "cell_type": "markdown",
   "id": "a520028e",
   "metadata": {},
   "source": [
    "# Construction of BY4741 from iMM904"
   ]
  },
  {
   "cell_type": "code",
   "execution_count": null,
   "id": "74c75523",
   "metadata": {},
   "outputs": [],
   "source": [
    "from cobra.io import read_sbml_model\n",
    "model_iMM904_BY4741 = read_sbml_model('iMM904.xml')\n",
    "model_iMM904_BY4741.solver\n",
    "\n",
    "model_iMM904_BY4741.genes.YCL018W.knock_out() #LEU2, BY4741\n",
    "model_iMM904_BY4741.genes.YEL021W.knock_out() #URA3, BY4741\n",
    "model_iMM904_BY4741.genes.YLR303W.knock_out() #MET17, BY4741\n",
    "#model_iMM904_BY4741.genes.YOR202W.knock_out() #HIS3: if the gene is deleted, cells cannot grow.\n",
    "model_iMM904_BY4741.reactions.XYLR.knock_out() # xylose reductase (YHR104W) pathway was deleted!! h_c + nadph_c + xyl__D_c --> nadp_c + xylt_c\n",
    "\n",
    "# test below\n",
    "#model_iMM904_BY4741.reactions.ALCD2x_copy1.knock_out()  # etoh_c + nad_c <=> acald_c + h_c + nadh_c\n",
    "#model_iMM904_BY4741.reactions.ALCD2x_copy2.knock_out()"
   ]
  },
  {
   "cell_type": "code",
   "execution_count": null,
   "id": "69ed2480",
   "metadata": {},
   "outputs": [],
   "source": [
    "# modify medium for the simulation based on Table A1. https://doi.org/10.1371/journal.pcbi.1005728\n",
    "# unit (mmol/gDW/h): 1 mol of glucose every 24h to 1 gram of bacteria you might set the upper exchange flux for glucose to \"1 mol / [1 gDW * 24 h]\" (https://cobrapy.readthedocs.io/en/latest/media.html)\n",
    "\n",
    "medium_iMM904_BY4741 = model_iMM904_BY4741.medium\n",
    "\n",
    "medium_iMM904_BY4741[\"EX_ura_e\"]= 1000    ### uracil[e] =>\n",
    "medium_iMM904_BY4741[\"EX_ade_e\"]= 0   # adenine[e] => \n",
    "medium_iMM904_BY4741[\"EX_cit_e\"]= 0   # citrate[e] => \n",
    "medium_iMM904_BY4741[\"EX_gly_e\"]= 0   # L-glycine[e] => \n",
    "medium_iMM904_BY4741[\"EX_ala__L_e\"]= 0   # L-alanine[e] => \n",
    "medium_iMM904_BY4741[\"EX_arg__L_e\"]= 0   # L-arginine[e] => \n",
    "medium_iMM904_BY4741[\"EX_asn__L_e\"]= 0   # L-asparagine[e] => \n",
    "medium_iMM904_BY4741[\"EX_asp__L_e\"]= 0   # L-aspartate[e] => \n",
    "medium_iMM904_BY4741[\"EX_cys__L_e\"]= 0   # L-cysteine[e] => \n",
    "medium_iMM904_BY4741[\"EX_glu__L_e\"]= 0   # L-glutamate[e] => \n",
    "medium_iMM904_BY4741[\"EX_gln__L_e\"]= 0   # L-glutamine[e] => \n",
    "medium_iMM904_BY4741[\"EX_ile__L_e\"]= 0   # L-isoleucine[e] => \n",
    "medium_iMM904_BY4741[\"EX_leu__L_e\"]= 1000   ### L-leucine[e] => \n",
    "medium_iMM904_BY4741[\"EX_lys__L_e\"]= 0   # L-lysine[e] => \n",
    "medium_iMM904_BY4741[\"EX_met__L_e\"]= 0   # L-methionine[e] => \n",
    "medium_iMM904_BY4741[\"EX_phe__L_e\"]= 0   # L-phenylalanine[e] => \n",
    "medium_iMM904_BY4741[\"EX_pro__L_e\"]= 0   # L-proline[e] => \n",
    "medium_iMM904_BY4741[\"EX_ser__L_e\"]= 0   # L-serine[e] => \n",
    "medium_iMM904_BY4741[\"EX_thr__L_e\"]= 0   # L-threonine[e] => \n",
    "medium_iMM904_BY4741[\"EX_trp__L_e\"]= 0   # L-tryptophan[e] => \n",
    "medium_iMM904_BY4741[\"EX_tyr__L_e\"]= 0   # L-tyrosine[e] => \n",
    "medium_iMM904_BY4741[\"EX_val__L_e\"]= 0   # L-valine[e] => \n",
    "medium_iMM904_BY4741[\"EX_ribflv_e\"]= 0   # riboflavin[e] => \n",
    "medium_iMM904_BY4741[\"EX_pnto__R_e\"]= 0.78   # (R)-pantothenate[e] => \n",
    "medium_iMM904_BY4741[\"EX_4abz_e\"]= 0.78   # 4-aminobenzoate[e] => \n",
    "medium_iMM904_BY4741[\"EX_btn_e\"]= 0.78   # biotin[e] => \n",
    "medium_iMM904_BY4741[\"EX_inost_e\"]= 0.78   # myo-inositol[e] => \n",
    "medium_iMM904_BY4741[\"EX_nac_e\"]= 0.78   # nicotinate[e] => \n",
    "medium_iMM904_BY4741[\"EX_thmpp_e\"]= 0.78   # thiamine[e] => \n",
    "medium_iMM904_BY4741[\"EX_nh4_e\"]= 1000   # ammonium[e] <=> \n",
    "medium_iMM904_BY4741[\"EX_fe2_e\"]= 1000   # iron(2+)[e] <=> \n",
    "medium_iMM904_BY4741[\"EX_pi_e\"]= 1000   # phosphate[e] <=> \n",
    "medium_iMM904_BY4741[\"EX_k_e\"]= 1000   # potassium[e] <=> \n",
    "medium_iMM904_BY4741[\"EX_na1_e\"]= 1000   # sodium[e] <=> \n",
    "medium_iMM904_BY4741[\"EX_so4_e\"]= 1000   # sulphate[e] <=> \n",
    "medium_iMM904_BY4741[\"EX_h2o_e\"]= 1000  # H2O\n",
    "medium_iMM904_BY4741[\"EX_h_e\"]= 1000  #H+\n",
    "#not present: medium_iMM904_BY4741[\"r_2028\"]= 0.78   # pyridoxine[e] => \n",
    "#not present: medium_iMM904_BY4741[\"r_1792\"]= 0   # folate[e] => \n",
    "#not present: medium_iMM904_BY4741[\"r_4593\"]= 1000   # chloride[e] <=> \n",
    "#not present: medium_iMM904_BY4741[\"r_4597\"]= 1000   # Mg(2+)[e] <=> \n",
    "#not present: medium_iMM904_BY4741[\"r_4600\"]= 1000   # Ca(2+)[e] <=> \n",
    "medium_iMM904_BY4741[\"EX_o2_e\"]= 1000   # oxygen[e] <=>      # if anaerobic, set 0\n",
    "\n",
    "#1) Glucose only <br>\n",
    "#2) Xylose only <br>\n",
    "#3) Acetate only <br>\n",
    "#4) Glu + Acet <br>\n",
    "#5) Xyl + Acet <br>\n",
    "medium_iMM904_BY4741[\"EX_glc__D_e\"]= 0   # D-glucose[e] <=> \n",
    "medium_iMM904_BY4741[\"EX_xyl__D_e\"]= 20    # D-xylose[e] => \n",
    "medium_iMM904_BY4741[\"EX_ac_e\"]=     0    # acetate[e] => \n",
    "\n",
    "model_iMM904_BY4741.medium = medium_iMM904_BY4741\n",
    "model_iMM904_BY4741.medium\n",
    "\n",
    "\n",
    "from cameo import fba\n",
    "import pandas as pd\n",
    "\n",
    "fba_result_iMM904_BY4741 = fba(model_iMM904_BY4741)\n",
    "fba_result_iMM904_BY4741\n",
    "#fba_result_iMM904_BY4741.data_frame\n",
    "#fba_result_iMM904_BY4741.data_frame.to_csv('1_BY4741_5_xyl_acet.csv')"
   ]
  },
  {
   "cell_type": "code",
   "execution_count": null,
   "id": "2ccc1c8f",
   "metadata": {},
   "outputs": [],
   "source": [
    "# change objective\n",
    "\n",
    "#fba_result_iMM904_BY4741\n",
    "model_iMM904_BY4741.objective = \"ALCD2ir\" # acald_c + h_c + nadh_c --> etoh_c + nad_c\n",
    "model_iMM904_BY4741.optimize().objective_value"
   ]
  },
  {
   "cell_type": "markdown",
   "id": "ead5d726",
   "metadata": {},
   "source": [
    "# Visualization"
   ]
  },
  {
   "cell_type": "code",
   "execution_count": null,
   "id": "c56d7d8c",
   "metadata": {},
   "outputs": [],
   "source": [
    "import ipywidgets as widgets\n",
    "from IPython.display import display\n",
    "import cobra\n",
    "import escher\n",
    "\n",
    "solution = model_iMM904_BY4741.optimize()\n",
    "escher.Builder('iMM904.Central carbon metabolism', reaction_data = solution.fluxes)"
   ]
  },
  {
   "cell_type": "code",
   "execution_count": null,
   "id": "92481d1d",
   "metadata": {},
   "outputs": [],
   "source": [
    "#model_iMM904_BY4741.reactions.get_by_id('ALCD2ir').flux\n",
    "#model_iMM904_BY4741.reactions.get_by_id('PPA').flux\n",
    "model_iMM904_BY4741.reactions.get_by_id('G6PDH2r')\n",
    "\n",
    "#model_iMM904_BY4741.genes.get_by_id('YNL241C') # G6PDH2r"
   ]
  },
  {
   "cell_type": "code",
   "execution_count": null,
   "id": "98faed03",
   "metadata": {},
   "outputs": [],
   "source": [
    "import pandas as pd\n",
    "from cameo import fba\n",
    "from cobra.flux_analysis import flux_variability_analysis\n",
    "\n",
    "flux_variability_analysis(model_iMM904_BY4741)\n",
    "table_FVA_flux_BY4741 = flux_variability_analysis(model_iMM904_BY4741)\n",
    "#table_FVA_flux_BY4741.to_csv('1_FVA_5_xyl_acet.csv')"
   ]
  },
  {
   "cell_type": "code",
   "execution_count": null,
   "id": "3c817efc",
   "metadata": {},
   "outputs": [],
   "source": []
  },
  {
   "cell_type": "code",
   "execution_count": null,
   "id": "9386738b",
   "metadata": {},
   "outputs": [],
   "source": []
  }
 ],
 "metadata": {
  "kernelspec": {
   "display_name": "Python 3",
   "language": "python",
   "name": "python3"
  },
  "language_info": {
   "codemirror_mode": {
    "name": "ipython",
    "version": 3
   },
   "file_extension": ".py",
   "mimetype": "text/x-python",
   "name": "python",
   "nbconvert_exporter": "python",
   "pygments_lexer": "ipython3",
   "version": "3.7.10"
  }
 },
 "nbformat": 4,
 "nbformat_minor": 5
}
